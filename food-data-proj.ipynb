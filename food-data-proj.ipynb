{
 "cells": [
  {
   "cell_type": "code",
   "execution_count": 1,
   "id": "34833fd4",
   "metadata": {},
   "outputs": [
    {
     "name": "stdout",
     "output_type": "stream",
     "text": [
      "817.92\n"
     ]
    }
   ],
   "source": [
    "# OrderDate Region City Category Product Quantity UnitPrice TotalPrice\n",
    "import csv\n",
    "\n",
    "mylist = []\n",
    "\n",
    "with open('sampledatafoodsales.csv', 'r') as csvfile:\n",
    "    reader = csv.DictReader(csvfile)\n",
    "    for row in reader:\n",
    "        mylist.append(row)\n",
    "\n",
    "numbers = []\n",
    "\n",
    "for row in mylist:\n",
    "    if row['City'] == 'Los Angeles':\n",
    "        numbers.append(float(row['TotalPrice']))\n",
    "        #print(numbers)\n",
    "for i in numbers:\n",
    "    max_ = max(numbers)\n",
    "\n",
    "print(max_)"
   ]
  },
  {
   "cell_type": "code",
   "execution_count": 2,
   "id": "db37459b",
   "metadata": {},
   "outputs": [
    {
     "name": "stdout",
     "output_type": "stream",
     "text": [
      "Total sales in Boston Q1 are: 1615.1999999999998\n",
      "Total sales in Los Angeles Q1 are: 569.9200000000001\n",
      "Total sales in New York Q1 are: 656.8700000000001\n",
      "Total sales in San Diego Q1 are: 99.12\n",
      "Is this a jank ass way to do this?\n"
     ]
    }
   ],
   "source": [
    "##############\n",
    "# Question 1 #\n",
    "##############\n",
    "\n",
    "# OrderDate Region City Category Product Quantity UnitPrice TotalPrice\n",
    "q1Boston = []\n",
    "q1Angeles = []\n",
    "q1York = []\n",
    "q1Diego = []\n",
    "totB = 0\n",
    "totA = 0\n",
    "totY = 0\n",
    "totD = 0\n",
    "\n",
    "for row in mylist:\n",
    "    if row['OrderDate'].startswith('1/' or '2/' or '3/'):\n",
    "        if row['City'] == 'Boston':\n",
    "            q1Boston.append(float(row['TotalPrice']))\n",
    "            \n",
    "        if row['City'] == 'Los Angeles':\n",
    "            q1Angeles.append(float(row['TotalPrice']))\n",
    "            \n",
    "        if row['City'] == 'New York':\n",
    "            q1York.append(float(row['TotalPrice']))\n",
    "            \n",
    "        if row['City'] == 'San Diego':\n",
    "            q1Diego.append(float(row['TotalPrice']))\n",
    "            \n",
    "totD = sum(q1Diego)\n",
    "totY = sum(q1York)\n",
    "totA = sum(q1Angeles)\n",
    "totB = sum(q1Boston)\n",
    "###################################################\n",
    "print(\"Total sales in Boston Q1 are:\", totB)\n",
    "print(\"Total sales in Los Angeles Q1 are:\", totA)\n",
    "print(\"Total sales in New York Q1 are:\", totY)\n",
    "print(\"Total sales in San Diego Q1 are:\", totD)\n",
    "print('Is this a jank ass way to do this?')"
   ]
  },
  {
   "cell_type": "code",
   "execution_count": 3,
   "id": "57ff84cc",
   "metadata": {},
   "outputs": [
    {
     "name": "stdout",
     "output_type": "stream",
     "text": [
      "The average number of snack items sold in the East Region in March is: 57.5\n",
      "The average number of snack items sold in the West Region in March is: 37.0\n"
     ]
    }
   ],
   "source": [
    "# OrderDate Region City Category Product Quantity UnitPrice TotalPrice\n",
    "\n",
    "##############\n",
    "# Question 2 #\n",
    "##############\n",
    "\n",
    "listeast = []\n",
    "listwest = []\n",
    "totaleast = 0\n",
    "totalwest = 0\n",
    "\n",
    "for row in mylist:\n",
    "    if row['OrderDate'].startswith('3/'):\n",
    "        if row['Region'] == 'East':\n",
    "            if row['Category'] == 'Snacks':\n",
    "                listeast.append(float(row['Quantity']))\n",
    "    \n",
    "        if row['Region'] == 'West':\n",
    "            if row['Category'] == 'Snacks':\n",
    "                listwest.append(float(row['Quantity']))\n",
    "avgeast = sum(listeast)/len(listeast)\n",
    "avgwest = sum(listwest)/len(listwest)\n",
    "\n",
    "###################################################\n",
    "\n",
    "print('The average number of snack items sold in the East Region in March is:', avgeast)\n",
    "print('The average number of snack items sold in the West Region in March is:', avgwest)"
   ]
  },
  {
   "cell_type": "code",
   "execution_count": 18,
   "id": "24773a4f",
   "metadata": {},
   "outputs": [
    {
     "name": "stdout",
     "output_type": "stream",
     "text": [
      "The highest selling item in Los Angeles is: Oatmeal Raisin\n",
      "Yes, I double checked that. It really is.\n",
      "The most profitable category is: Cookies\n",
      "17212.41\n"
     ]
    }
   ],
   "source": [
    "# OrderDate Region City Category Product Quantity UnitPrice TotalPrice\n",
    "\n",
    "##############\n",
    "# Question 3 #\n",
    "##############\n",
    "marx = []\n",
    "for row in mylist:\n",
    "    if row['City'] == 'Los Angeles':\n",
    "        marx.append(float(row['TotalPrice']))\n",
    "high = max(marx)\n",
    "\n",
    "for row in mylist:\n",
    "    if float(row['TotalPrice']) == high:\n",
    "        print('The highest selling item in Los Angeles is:', row['Product'])\n",
    "print('Yes, I double checked that. It really is.')\n",
    "snax = []\n",
    "crax = []\n",
    "coox = []\n",
    "bars = []\n",
    "for row in mylist:\n",
    "    if row['Category'] == 'Snacks':\n",
    "        snax.append(float(row['TotalPrice']))\n",
    "    if row['Category'] == 'Crackers':\n",
    "        crax.append(float(row['TotalPrice']))\n",
    "    if row['Category'] == 'Cookies':\n",
    "        coox.append(float(row['TotalPrice']))\n",
    "    if row['Category'] == 'Bars':\n",
    "        bars.append(float(row['TotalPrice']))\n",
    "cats = {}\n",
    "snaxS = sum(snax)\n",
    "craxS = sum(crax)\n",
    "cooxS = sum(coox)\n",
    "barsS = sum(bars)\n",
    "cats = {'Snacks':snaxS, 'Crackers':craxS, 'Cookies':cooxS, 'Bars':barsS}\n",
    "\n",
    "datboi = max(cats, key=cats.get)\n",
    "\n",
    "print('The most profitable category is:', datboi)"
   ]
  },
  {
   "cell_type": "code",
   "execution_count": 5,
   "id": "10133ba2",
   "metadata": {},
   "outputs": [
    {
     "name": "stdout",
     "output_type": "stream",
     "text": [
      "The highest priced product in the dataset is: Oatmeal Raisin\n",
      "And the lowest priced product is: Potato Chips\n"
     ]
    }
   ],
   "source": [
    "##############\n",
    "# Question 4 #\n",
    "##############\n",
    "prices = []\n",
    "maxine = 0\n",
    "minnie = 0\n",
    "\n",
    "for i in mylist:\n",
    "    prices.append(float(i['TotalPrice']))\n",
    "\n",
    "maxine = max(prices)\n",
    "minnie = min(prices)\n",
    "prod1 = []\n",
    "prod2 = []\n",
    "\n",
    "for i in mylist:\n",
    "    if i['TotalPrice'] == str(maxine):\n",
    "        prod1 = i['Product']\n",
    "    if i['TotalPrice'] == str(minnie):\n",
    "        prod2 = i['Product']\n",
    "print('The highest priced product in the dataset is:', prod1)\n",
    "print('And the lowest priced product is:', prod2)"
   ]
  },
  {
   "cell_type": "code",
   "execution_count": null,
   "id": "5faf1e04",
   "metadata": {},
   "outputs": [],
   "source": []
  }
 ],
 "metadata": {
  "kernelspec": {
   "display_name": "Python 3 (ipykernel)",
   "language": "python",
   "name": "python3"
  },
  "language_info": {
   "codemirror_mode": {
    "name": "ipython",
    "version": 3
   },
   "file_extension": ".py",
   "mimetype": "text/x-python",
   "name": "python",
   "nbconvert_exporter": "python",
   "pygments_lexer": "ipython3",
   "version": "3.8.10"
  }
 },
 "nbformat": 4,
 "nbformat_minor": 5
}
