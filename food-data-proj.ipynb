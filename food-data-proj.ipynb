{
 "cells": [
  {
   "cell_type": "code",
   "execution_count": null,
   "id": "34833fd4",
   "metadata": {},
   "outputs": [],
   "source": [
    "# OrderDate Region City Category Product Quantity UnitPrice TotalPrice\n",
    "import csv\n",
    "\n",
    "mylist = []\n",
    "\n",
    "with open('sampledatafoodsales.csv', 'r') as csvfile:\n",
    "    reader = csv.DictReader(csvfile)\n",
    "    for row in reader:\n",
    "        mylist.append(row)\n",
    "\n",
    "numbers = []\n",
    "\n",
    "for row in mylist:\n",
    "    if row['City'] == 'Los Angeles':\n",
    "        numbers.append(float(row['TotalPrice']))\n",
    "        #print(numbers)\n",
    "for i in numbers:\n",
    "    max_ = max(numbers)\n",
    "\n",
    "print(max_)"
   ]
  },
  {
   "cell_type": "code",
   "execution_count": null,
   "id": "db37459b",
   "metadata": {},
   "outputs": [],
   "source": [
    "##############\n",
    "# Question 1 #\n",
    "##############\n",
    "\n",
    "# OrderDate Region City Category Product Quantity UnitPrice TotalPrice\n",
    "q1Boston = []\n",
    "q1Angeles = []\n",
    "q1York = []\n",
    "q1Diego = []\n",
    "totB = 0\n",
    "totA = 0\n",
    "totY = 0\n",
    "totD = 0\n",
    "\n",
    "for row in mylist:\n",
    "    if row['OrderDate'].startswith('1/' or '2/' or '3/'):\n",
    "        if row['City'] == 'Boston':\n",
    "            q1Boston.append(float(row['TotalPrice']))\n",
    "            \n",
    "        if row['City'] == 'Los Angeles':\n",
    "            q1Angeles.append(float(row['TotalPrice']))\n",
    "            \n",
    "        if row['City'] == 'New York':\n",
    "            q1York.append(float(row['TotalPrice']))\n",
    "            \n",
    "        if row['City'] == 'San Diego':\n",
    "            q1Diego.append(float(row['TotalPrice']))\n",
    "            \n",
    "totD = sum(q1Diego)\n",
    "totY = sum(q1York)\n",
    "totA = sum(q1Angeles)\n",
    "totB = sum(q1Boston)\n",
    "###################################################\n",
    "print(\"Total sales in Boston Q1 are:\", totB)\n",
    "print(\"Total sales in Los Angeles Q1 are:\", totA)\n",
    "print(\"Total sales in New York Q1 are:\", totY)\n",
    "print(\"Total sales in San Diego Q1 are:\", totD)\n",
    "print('Is this a jank ass way to do this?')"
   ]
  },
  {
   "cell_type": "code",
   "execution_count": null,
   "id": "57ff84cc",
   "metadata": {},
   "outputs": [],
   "source": [
    "# OrderDate Region City Category Product Quantity UnitPrice TotalPrice\n",
    "\n",
    "##############\n",
    "# Question 2 #\n",
    "##############\n",
    "\n",
    "listeast = []\n",
    "listwest = []\n",
    "totaleast = 0\n",
    "totalwest = 0\n",
    "\n",
    "for row in mylist:\n",
    "    if row['OrderDate'].startswith('3/'):\n",
    "        if row['Region'] == 'East':\n",
    "            if row['Category'] == 'Snacks':\n",
    "                listeast.append(float(row['Quantity']))\n",
    "    \n",
    "        if row['Region'] == 'West':\n",
    "            if row['Category'] == 'Snacks':\n",
    "                listwest.append(float(row['Quantity']))\n",
    "avgeast = sum(listeast)/len(listeast)\n",
    "avgwest = sum(listwest)/len(listwest)\n",
    "\n",
    "###################################################\n",
    "\n",
    "print('The average number of snack items sold in the East Region in March is:', avgeast)\n",
    "print('The average number of snack items sold in the West Region in March is:', avgwest)"
   ]
  },
  {
   "cell_type": "code",
   "execution_count": null,
   "id": "83456714",
   "metadata": {},
   "outputs": [],
   "source": [
    "# OrderDate Region City Category Product Quantity UnitPrice TotalPrice"
   ]
  },
  {
   "cell_type": "code",
   "execution_count": null,
   "id": "9ece2dff",
   "metadata": {},
   "outputs": [],
   "source": []
  }
 ],
 "metadata": {
  "kernelspec": {
   "display_name": "Python 3 (ipykernel)",
   "language": "python",
   "name": "python3"
  },
  "language_info": {
   "codemirror_mode": {
    "name": "ipython",
    "version": 3
   },
   "file_extension": ".py",
   "mimetype": "text/x-python",
   "name": "python",
   "nbconvert_exporter": "python",
   "pygments_lexer": "ipython3",
   "version": "3.8.10"
  }
 },
 "nbformat": 4,
 "nbformat_minor": 5
}
