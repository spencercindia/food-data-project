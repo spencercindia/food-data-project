{
 "cells": [
  {
   "cell_type": "code",
   "execution_count": 2,
   "id": "34833fd4",
   "metadata": {},
   "outputs": [
    {
     "name": "stdout",
     "output_type": "stream",
     "text": [
      "817.92\n"
     ]
    }
   ],
   "source": [
    "# OrderDate Region City Category Product Quantity UnitPrice TotalPrice\n",
    "import csv\n",
    "\n",
    "mylist = []\n",
    "\n",
    "with open('sampledatafoodsales.csv', 'r') as csvfile:\n",
    "    reader = csv.DictReader(csvfile)\n",
    "    for row in reader:\n",
    "        mylist.append(row)\n",
    "\n",
    "numbers = []\n",
    "\n",
    "for row in mylist:\n",
    "    if row['City'] == 'Los Angeles':\n",
    "        numbers.append(float(row['TotalPrice']))\n",
    "        #print(numbers)\n",
    "for i in numbers:\n",
    "    max_ = max(numbers)\n",
    "\n",
    "print(max_)"
   ]
  },
  {
   "cell_type": "code",
   "execution_count": 7,
   "id": "db37459b",
   "metadata": {},
   "outputs": [
    {
     "name": "stdout",
     "output_type": "stream",
     "text": [
      "Total sales in Boston Q1 are: 1615.1999999999998\n",
      "Total sales in Los Angeles Q1 are: 569.9200000000001\n",
      "Total sales in New York Q1 are: 656.8700000000001\n",
      "Total sales in San Diego Q1 are: 99.12\n",
      "Is this a jank ass way to do this?\n"
     ]
    }
   ],
   "source": [
    "q1Boston = []\n",
    "q1Angeles = []\n",
    "q1York = []\n",
    "q1Diego = []\n",
    "totB = 0\n",
    "totA = 0\n",
    "totY = 0\n",
    "totD = 0\n",
    "\n",
    "for row in mylist:\n",
    "    if row['OrderDate'].startswith('1/' or '2/' or '3/'):\n",
    "        if row['City'] == 'Boston':\n",
    "            q1Boston.append(float(row['TotalPrice']))\n",
    "            totB = sum(q1Boston)\n",
    "        if row['City'] == 'Los Angeles':\n",
    "            q1Angeles.append(float(row['TotalPrice']))\n",
    "            totA = sum(q1Angeles)\n",
    "        if row['City'] == 'New York':\n",
    "            q1York.append(float(row['TotalPrice']))\n",
    "            totY = sum(q1York)\n",
    "        if row['City'] == 'San Diego':\n",
    "            q1Diego.append(float(row['TotalPrice']))\n",
    "            totD = sum(q1Diego)\n",
    "\n",
    "print(\"Total sales in Boston Q1 are:\", totB)\n",
    "print(\"Total sales in Los Angeles Q1 are:\", totA)\n",
    "print(\"Total sales in New York Q1 are:\", totY)\n",
    "print(\"Total sales in San Diego Q1 are:\", totD)\n",
    "print('Is this a jank ass way to do this?')"
   ]
  },
  {
   "cell_type": "code",
   "execution_count": null,
   "id": "57ff84cc",
   "metadata": {},
   "outputs": [],
   "source": []
  }
 ],
 "metadata": {
  "kernelspec": {
   "display_name": "Python 3 (ipykernel)",
   "language": "python",
   "name": "python3"
  },
  "language_info": {
   "codemirror_mode": {
    "name": "ipython",
    "version": 3
   },
   "file_extension": ".py",
   "mimetype": "text/x-python",
   "name": "python",
   "nbconvert_exporter": "python",
   "pygments_lexer": "ipython3",
   "version": "3.8.10"
  }
 },
 "nbformat": 4,
 "nbformat_minor": 5
}
